{
 "cells": [
  {
   "cell_type": "markdown",
   "metadata": {},
   "source": [
    "# Configuraciones para la conexión con la base de datos\n",
    "\n",
    "## Creación de instancia de PostgreSQL en Docker\n",
    "\n",
    "Antes de iniciar con el desarrollo de las consultas, nos conectamos a la instancia de PostgreSQL creada en Docker.\n",
    "\n",
    "Iniciamos verificando los procesos que se están ejecutando en el contenedor.\n",
    "\n",
    "```PowerShell\n",
    "docker ps \n",
    "```\n",
    "\n",
    "![image](assets/Conexion1.png)\n",
    "<p style=\"text-align: center; width: 100%;\">Figura 1. Procesos siendo ejecutados por nuestro contenedor **Docker**</p>\n",
    "\n",
    "\n",
    "Para **conectarnos a la instancia de PostgreSQL** creada por el contenedor, utilizamos el siguiente comando:\n",
    "\n",
    "\n",
    "```PowerShell\n",
    "docker exec -it dbtask1-postgres bash \n",
    "```\n",
    "\n",
    "**docker exec** se encarga de ejecutar un comando de forma interactiva en un contenedor en ejecución, en este caso, el contenedor para PostgreSQL previamente instanciado, utilizando el programa **bash** dentro del contenedor. Luego de hacerlo, podemos conectarnos a **postgres** desde el **bash** utilizando el siguiente comando:\n",
    "\n",
    "\n",
    "```PowerShell\n",
    ":psql -U dbtask1 --password --db dbtask1\n",
    "```\n",
    "\n",
    "![image](assets/Conexion2.png)\n",
    "<p style=\"text-align: center; width: 100%;\">Figura 2. Conexión a base de datos. La contraseña es suministrada en el prompt</p>\n",
    "\n",
    "\n",
    "## Administración de la base de datos con pgAdmin\n",
    "\n",
    "Para visualizar las tablas creadas, se crea una conexión con pgAdmin, siguiendo los pasos explicados en clase.\n",
    "\n",
    "![image](assets/pgAdmin1.png)\n",
    "<p style=\"text-align: center; width: 100%;\">Figura 3. Página de inicio de pgAdmin</p>\n",
    "\n",
    "\n",
    "![image](assets/pgAdmin2.png)\n",
    "<p style=\"text-align: center; width: 100%;\">Figura 4. Ingreso de credenciales para conectarnos a la base de datos instanciada.</p>\n",
    "\n",
    "![image](assets/pgAdmin3.png)\n",
    "<p style=\"text-align: center; width: 100%;\">Figura 5. Base de datos del proyecto conectada</p>\n",
    "\n",
    "\n",
    "\n",
    "## Configuración del entorno Python\n",
    "\n",
    "Como lo indica el punto 4 de la asignación, las consultas SQL deben realizarse desde Python usando la API psycopg2. Para ello, inicialmente crearemos un entorno aislado con las dependencias que serán utilizadas en el marco del proyecto.\n",
    "\n",
    "```PowerShell\n",
    "conda create --name tarea1_venv python=3.9\n",
    "```\n",
    "\n",
    "Ahora para activarlos, usamos:\n",
    "\n",
    "```PowerShell\n",
    "conda activate tarea1_venv\n",
    "```\n",
    "\n",
    "Instalamos librerías básicas para el análisis de datos y el desarrollo de las consultas.\n",
    "\n",
    "```PowerShell\n",
    "pip install -U jupyter-book\n",
    "pip install -U psycopg2\n",
    "pip install -U numpy\n",
    "pip install -U scipy\n",
    "pip install -U pandas\n",
    "pip install -U matplotlib\n",
    "pip install -U scikit-learn\n",
    "pip install -U jupyter-book\n",
    "pip install -U psycopg2\n",
    "pip install jupyter lab\n",
    "```\n",
    "\n",
    "Ahora, instalamos un nuevo kernel de IPython con el nombre \"tarea1_venv\" en el entorno de mi usuario actual. Esto con el propósito de utilizar este kernel específico en mis Jupyter notebooks para trabajar en el entorno virtual creado para el proyecto.\n",
    "\n",
    "```PowerShell\n",
    "pip install -U ipykernel\n",
    "python -m ipykernel install --user --name=tarea1_venv\n",
    "```\n",
    "\n",
    "En este caso, las consultas las desarrollamos en Jupyter lab. \n",
    "\n",
    "```PowerShell\n",
    "jupyter lab\n",
    "```\n",
    "\n"
   ]
  },
  {
   "cell_type": "markdown",
   "metadata": {},
   "source": [
    "```sh\n",
    "git clone https://github.com/TomasBeuzen/python-programming-for-data-science.git\n",
    "```"
   ]
  },
  {
   "cell_type": "markdown",
   "metadata": {},
   "source": [
    "# Python API para PosgreSQL\n",
    "\n",
    "La biblioteca psycopg2 es un controlador de base de datos para PostgreSQL en Python. Para el propósito de la actividad, importamos la librería y la clase Error para manejar errores específicos de PostgreSQL"
   ]
  },
  {
   "cell_type": "code",
   "execution_count": 1,
   "metadata": {},
   "outputs": [],
   "source": [
    "\n",
    "import psycopg2\n",
    "from psycopg2 import Error"
   ]
  },
  {
   "cell_type": "markdown",
   "metadata": {},
   "source": [
    "Ahora intentamos establecer una conexión con la base de datos PostgreSQL creada. Utilizamo los parámetros de conexión, como el nombre de usuario, contraseña, host, puerto y nombre de la base de datos, para conectarnos a un servidor local. Si la conexión se establece con éxito, creamos un objeto cursor que se utilizará para ejecutar comandos SQL en la base de datos."
   ]
  },
  {
   "cell_type": "code",
   "execution_count": 2,
   "metadata": {},
   "outputs": [
    {
     "name": "stdout",
     "output_type": "stream",
     "text": [
      "PostgreSQL server information\n",
      "{'user': 'dbtask1', 'channel_binding': 'prefer', 'dbname': 'dbtask1', 'host': 'localhost', 'port': '5432', 'options': '', 'sslmode': 'prefer', 'sslcompression': '0', 'sslcertmode': 'allow', 'sslsni': '1', 'ssl_min_protocol_version': 'TLSv1.2', 'gssencmode': 'disable', 'krbsrvname': 'postgres', 'gssdelegation': '0', 'target_session_attrs': 'any', 'load_balance_hosts': 'disable'} \n",
      "\n",
      "You are connected to -  ('PostgreSQL 16.0 (Debian 16.0-1.pgdg120+1) on x86_64-pc-linux-gnu, compiled by gcc (Debian 12.2.0-14) 12.2.0, 64-bit',) \n",
      "\n"
     ]
    }
   ],
   "source": [
    "try:\n",
    "    connection = psycopg2.connect(user=\"dbtask1\",\n",
    "                                  password=\"password\",\n",
    "                                  host=\"localhost\",\n",
    "                                  port=\"5432\",\n",
    "                                  database=\"dbtask1\")\n",
    "\n",
    "    cursor = connection.cursor()\n",
    "    print(\"PostgreSQL server information\")\n",
    "    print(connection.get_dsn_parameters(), \"\\n\")\n",
    "\n",
    "    cursor.execute(\"SELECT version();\")\n",
    "    record = cursor.fetchone()\n",
    "    print(\"You are connected to - \", record, \"\\n\")\n",
    "\n",
    "except (Exception, Error) as error:\n",
    "    print(\"Error while connecting to PostgreSQL\", error)\n",
    "#finally:\n",
    "    #if (connection):\n",
    "        #cursor.close()\n",
    "        #connection.close()\n",
    "        #print(\"PostgreSQL connection is closed\")"
   ]
  },
  {
   "cell_type": "markdown",
   "metadata": {},
   "source": [
    "## Consultas SQL\n",
    "\n",
    "### I. CREATE TABLE employees\n",
    "\n",
    "Este código crea una nueva tabla llamada \"employees\" en una base de datos y establece un conjunto de reglas y restricciones en esta tabla para garantizar la integridad de los datos, como la unicidad del ID de empleado."
   ]
  },
  {
   "cell_type": "code",
   "execution_count": 3,
   "metadata": {},
   "outputs": [
    {
     "name": "stdout",
     "output_type": "stream",
     "text": [
      "Table created successfully\n"
     ]
    }
   ],
   "source": [
    "cursor.execute('''DROP TABLE IF EXISTS employees''')\n",
    "cursor.execute('''CREATE TABLE employees\n",
    "   ( employee_id INTEGER\n",
    "   , first_name VARCHAR(20)\n",
    "   , last_name VARCHAR(25)\n",
    "   , email VARCHAR(25)\n",
    "   , phone_number VARCHAR(20)\n",
    "   , hire_date DATE\n",
    "   , job_id VARCHAR(10)\n",
    "   , salary NUMERIC(8,2)\n",
    "   , commission_pct NUMERIC(2,2)\n",
    "   , manager_id INTEGER\n",
    "   , department_id INTEGER\n",
    "   ) ;\n",
    "\n",
    "CREATE UNIQUE INDEX emp_emp_id_pk\n",
    "         ON employees (employee_id) ;\n",
    "\n",
    "ALTER TABLE employees ADD\n",
    "   PRIMARY KEY (employee_id);\n",
    "''')\n",
    "\n",
    "print(\"Table created successfully\")\n",
    "\n",
    "# Confirma los cambios en la base de datos\n",
    "connection.commit()"
   ]
  },
  {
   "cell_type": "markdown",
   "metadata": {},
   "source": [
    "\n",
    "![image](assets/create_table_employees.png)\n",
    "<p style=\"text-align: center; width: 100%;\">Figura 6. Vista en pgAdmin de la creación de la base de datos employees.</p>"
   ]
  },
  {
   "cell_type": "markdown",
   "metadata": {},
   "source": [
    "Usando la sentencia a continuación, seleccionamos todos los registros de la tabla \"employees\". Luego, utiliza la cláusula \"LIMIT 10\" para restringir el resultado a solo 10 filas."
   ]
  },
  {
   "cell_type": "code",
   "execution_count": 4,
   "metadata": {},
   "outputs": [
    {
     "name": "stdout",
     "output_type": "stream",
     "text": [
      "Operation done successfully\n"
     ]
    }
   ],
   "source": [
    "# Ejecutar la consulta\n",
    "cursor.execute(\"SELECT * FROM employees LIMIT 10\")\n",
    "\n",
    "# Recuperar los resultados\n",
    "rows = cursor.fetchall()\n",
    "\n",
    "# Iterar sobre los resultados\n",
    "for row in rows:\n",
    "    print(row)\n",
    "print(\"Operation done successfully\")"
   ]
  },
  {
   "cell_type": "markdown",
   "metadata": {},
   "source": [
    "Ahora, empleando esta sentencia hacemos una agregación para contar el número total de registros en la tabla \"employees\". La consulta devolverá un solo valor que representa la cantidad total de registros en la tabla \"employees\"."
   ]
  },
  {
   "cell_type": "code",
   "execution_count": 5,
   "metadata": {},
   "outputs": [
    {
     "name": "stdout",
     "output_type": "stream",
     "text": [
      "El número de empleados es: 0\n"
     ]
    }
   ],
   "source": [
    "# Ejecutar la consulta\n",
    "cursor.execute(\"SELECT count(1) FROM employees\")\n",
    "\n",
    "# Recuperar el resultado\n",
    "count = cursor.fetchone()[0]\n",
    "\n",
    "# Imprimir el resultado\n",
    "print(f\"El número de empleados es: {count}\")"
   ]
  },
  {
   "cell_type": "markdown",
   "metadata": {},
   "source": [
    "### II. CREATE TABLE courses\n",
    "\n",
    "Se creó la tabla `courses` con las siguientes columnas:\n",
    "\n",
    "* `mcourse_id` - integer y primary key\n",
    "* `course_name` - valores alfanuméricos o de cadena de hasta 60 caracteres\n",
    "* `course_author` - nombre del autor de hasta 40 caracteres\n",
    "* `course_status` - published, draft, inactive.\n",
    "* `course_published_dt` - valor de tipo fecha"
   ]
  },
  {
   "cell_type": "code",
   "execution_count": 6,
   "metadata": {},
   "outputs": [],
   "source": [
    "cursor.execute('''DROP TABLE IF EXISTS courses''')\n",
    "cursor.execute(\"\"\"\n",
    "    CREATE TABLE courses (\n",
    "        course_id SERIAL PRIMARY KEY,\n",
    "        course_name VARCHAR(60),\n",
    "        course_author VARCHAR(40),\n",
    "        course_status VARCHAR(10) CHECK (course_status IN ('published', 'draft', 'inactive')),\n",
    "        course_published_dt DATE\n",
    "    )\n",
    "\"\"\")\n",
    "\n",
    "# Confirmar los cambios en la base de datos\n",
    "connection.commit()"
   ]
  },
  {
   "cell_type": "markdown",
   "metadata": {},
   "source": [
    "### III. INSERT INTO courses\n",
    "\n",
    "Se insertaron los datos proporcionados en `courses`. Nos aseguramos de que el id fuera generado por el sistema."
   ]
  },
  {
   "cell_type": "code",
   "execution_count": 7,
   "metadata": {},
   "outputs": [
    {
     "name": "stdout",
     "output_type": "stream",
     "text": [
      "Records created successfully\n"
     ]
    }
   ],
   "source": [
    "data_to_insert = [\n",
    "    (\"Programming using Python\", \"Bob Dillon\", \"published\", \"2020-09-30\"),\n",
    "    (\"Data engineering using Python\", \"Bob Dillon\", \"published\", \"2020-07-15\"),\n",
    "    (\"Data engineering using Scala\", \"Elvis Presly\", \"draft\", None),\n",
    "    (\"Programming using Scala\", \"Elvis Presly\", \"published\", \"2020-05-12\"),\n",
    "    (\"Programming using Java\", \"Mike Jack\", \"inactive\", \"2020-08-10\"),\n",
    "    (\"Web Applications - Python Flask\", \"Bob Dillon\", \"inactive\", \"2020-07-20\"),\n",
    "    (\"Web Applications - Java Spring\", \"Mike Jack\", \"draft\", None),\n",
    "    (\"Pipeline Orchestration - Python\", \"Bob Dillon\", \"draft\", None),\n",
    "    (\"Streaming Pipelines - Python\", \"Bob Dillon\", \"published\", \"2020-10-05\"),\n",
    "    (\"Web Applications - Scala Play\", \"Elvis Presly\", \"inactive\", \"2020-09-30\"),\n",
    "    (\"Web Applications - Python Django\", \"Bob Dillon\", \"published\", \"2020-06-23\"),\n",
    "    (\"Server Automation - Ansible\", \"Uncle Sam\", \"published\", \"2020-07-05\")\n",
    "]\n",
    "\n",
    "# Insertar datos en la tabla. %s es un marcador de posición \n",
    "for course in data_to_insert:\n",
    "    cursor.execute(\"\"\"\n",
    "        INSERT INTO courses (course_name, course_author, course_status, course_published_dt)\n",
    "        VALUES (%s, %s, %s, %s);\n",
    "    \"\"\", course)\n",
    "\n",
    "connection.commit()\n",
    "print(\"Records created successfully\")"
   ]
  },
  {
   "cell_type": "markdown",
   "metadata": {},
   "source": [
    "\n",
    "![image](assets/create_table_courses.png)\n",
    "<p style=\"text-align: center; width: 100%;\">Figura 7. Vista en pgAdmin de la creación de la base de datos courses.</p>"
   ]
  },
  {
   "cell_type": "markdown",
   "metadata": {},
   "source": [
    "### IV. DELET FROM and WHERE in courses\n",
    "Se borraron todos los cursos que no estén en modo borrador ni publicados. Para validar la correcta ejecución de esta sentencia, obtuvimos el recuento de todos los cursos publicados por autor y nos aseguramos de que la salida está ordenada en forma descendente por recuento."
   ]
  },
  {
   "cell_type": "code",
   "execution_count": 8,
   "metadata": {},
   "outputs": [
    {
     "name": "stdout",
     "output_type": "stream",
     "text": [
      "Autor: Bob Dillon, Cantidad de Cursos Publicados: 4\n",
      "Autor: Elvis Presly, Cantidad de Cursos Publicados: 1\n",
      "Autor: Uncle Sam, Cantidad de Cursos Publicados: 1\n"
     ]
    }
   ],
   "source": [
    "# Borrar los cursos que no están en modo \"borrador\" ni \"publicados\"\n",
    "cursor.execute(\"DELETE FROM courses WHERE course_status NOT IN ('draft', 'published')\")\n",
    "\n",
    "# Obtener el recuento de cursos \"publicados\" por autor\n",
    "cursor.execute(\"\"\"\n",
    "    SELECT course_author, COUNT(*) AS course_count\n",
    "    FROM courses\n",
    "    WHERE course_status = 'published'\n",
    "    GROUP BY course_author\n",
    "    ORDER BY course_count DESC;\n",
    "\"\"\")\n",
    "\n",
    "# Obtener los resultados y mostrarlos\n",
    "results = cursor.fetchall()\n",
    "for row in results:\n",
    "    print(f\"Autor: {row[0]}, Cantidad de Cursos Publicados: {row[1]}\")"
   ]
  },
  {
   "cell_type": "markdown",
   "metadata": {},
   "source": [
    "### VI. CREATE TABLE users\n",
    "\n",
    "Creamos la base de datos `users`, con las siguientes variables:"
   ]
  },
  {
   "cell_type": "code",
   "execution_count": 9,
   "metadata": {},
   "outputs": [],
   "source": [
    "cursor.execute('''DROP TABLE IF EXISTS users''')\n",
    "cursor.execute('''CREATE TABLE users(\n",
    "    user_id SERIAL PRIMARY KEY,\n",
    "    user_first_name VARCHAR(30),\n",
    "    user_last_name VARCHAR(30),\n",
    "    user_email_id VARCHAR(50),\n",
    "    user_gender VARCHAR(1),\n",
    "    user_unique_id VARCHAR(15),\n",
    "    user_phone_no VARCHAR(20),\n",
    "    user_dob DATE,\n",
    "    created_ts TIMESTAMP\n",
    ")''')"
   ]
  },
  {
   "cell_type": "code",
   "execution_count": 10,
   "metadata": {},
   "outputs": [
    {
     "name": "stdout",
     "output_type": "stream",
     "text": [
      "Records created successfully\n"
     ]
    }
   ],
   "source": [
    "data_to_insert2 = [\n",
    "    ('Giuseppe', 'Bode', 'gbode0@imgur.com', 'M', '88833-8759', \n",
    "     '+86 (764) 443-1967', '1973-05-31', '2018-04-15 12:13:38'),\n",
    "    ('Lexy', 'Gisbey', 'lgisbey1@mail.ru', 'F', '262501-029', \n",
    "     '+86 (751) 160-3742', '2003-05-31', '2020-12-29 06:44:09'),\n",
    "    ('Karel', 'Claringbold', 'kclaringbold2@yale.edu', 'F', '391-33-2823', \n",
    "     '+62 (445) 471-2682', '1985-11-28', '2018-11-19 00:04:08'),\n",
    "    ('Marv', 'Tanswill', 'mtanswill3@dedecms.com', 'F', '1195413-80', \n",
    "     '+62 (497) 736-6802', '1998-05-24', '2018-11-19 16:29:43'),\n",
    "    ('Gertie', 'Espinoza', 'gespinoza4@nationalgeographic.com', 'M', '471-24-6869', \n",
    "     '+249 (687) 506-2960', '1997-10-30', '2020-01-25 21:31:10'),\n",
    "    ('Saleem', 'Danneil', 'sdanneil5@guardian.co.uk', 'F', '192374-933', \n",
    "     '+63 (810) 321-0331', '1992-03-08', '2020-11-07 19:01:14'),\n",
    "    ('Rickert', 'O''Shiels', 'roshiels6@wikispaces.com', 'M', '749-27-47-52', \n",
    "     '+86 (184) 759-3933', '1972-11-01', '2018-03-20 10:53:24'),\n",
    "    ('Cybil', 'Lissimore', 'clissimore7@pinterest.com', 'M', '461-75-4198', \n",
    "     '+54 (613) 939-6976', '1978-03-03', '2019-12-09 14:08:30'),\n",
    "    ('Melita', 'Rimington', 'mrimington8@mozilla.org', 'F', '892-36-676-2', \n",
    "     '+48 (322) 829-8638', '1995-12-15', '2018-04-03 04:21:33'),\n",
    "    ('Benetta', 'Nana', 'bnana9@google.com', 'M', '197-54-1646', \n",
    "     '+420 (934) 611-0020', '1971-12-07', '2018-10-17 21:02:51'),\n",
    "    ('Gregorius', 'Gullane', 'ggullanea@prnewswire.com', 'F', '232-55-52-58', \n",
    "     '+62 (780) 859-1578', '1973-09-18', '2020-01-14 23:38:53'),\n",
    "    ('Una', 'Glayzer', 'uglayzerb@pinterest.com', 'M', '898-84-336-6', \n",
    "     '+380 (840) 437-3981', '1983-05-26', '2019-09-17 03:24:21'),\n",
    "    ('Jamie', 'Vosper', 'jvosperc@umich.edu', 'M', '247-95-68-44', \n",
    "     '+81 (205) 723-1942', '1972-03-18', '2020-07-23 16:39:33'),\n",
    "    ('Calley', 'Tilson', 'ctilsond@issuu.com', 'F', '415-48-894-3', \n",
    "     '+229 (698) 777-4904', '1987-06-12', '2020-06-05 12:10:50'),\n",
    "    ('Peadar', 'Gregorowicz', 'pgregorowicze@omniture.com', 'M', '403-39-5-869', \n",
    "     '+7 (267) 853-3262', '1996-09-21', '2018-05-29 23:51:31'),\n",
    "    ('Jeanie', 'Webling', 'jweblingf@booking.com', 'F', '399-83-05-03', \n",
    "     '+351 (684) 413-0550', '1994-12-27', '2018-02-09 01:31:11'),\n",
    "    ('Yankee', 'Jelf', 'yjelfg@wufoo.com', 'F', '607-99-0411', \n",
    "     '+1 (864) 112-7432', '1988-11-13', '2019-09-16 16:09:12'),\n",
    "    ('Blair', 'Aumerle', 'baumerleh@toplist.cz', 'F', '430-01-578-5', \n",
    "     '+7 (393) 232-1860', '1979-11-09', '2018-10-28 19:25:35'),\n",
    "    ('Pavlov', 'Steljes', 'psteljesi@macromedia.com', 'F', '571-09-6181', \n",
    "     '+598 (877) 881-3236', '1991-06-24', '2020-09-18 05:34:31'),\n",
    "    ('Darn', 'Hadeke', 'dhadekej@last.fm', 'M', '478-32-02-87', \n",
    "     '+370 (347) 110-4270', '1984-09-04', '2018-02-10 12:56:00'),\n",
    "    ('Wendell', 'Spanton', 'wspantonk@de.vu', 'F', ' ', \n",
    "     '+84 (301) 762-1316', '1973-07-24', '2018-01-30 01:20:11'),\n",
    "    ('Carlo', 'Yearby', 'cyearbyl@comcast.net', 'F', '', \n",
    "     '+55 (288) 623-4067', '1974-11-11', '2018-06-24 03:18:40'),\n",
    "    ('Sheila', 'Evitts', 'sevittsm@webmd.com', '', '830-40-5287',\n",
    "     ' ', '1977-03-01', '2020-07-20 09:59:41'),\n",
    "    ('Sianna', 'Lowdham', 'slowdhamn@stanford.edu', '', '778-0845', \n",
    "     ' ', '1985-12-23', '2018-06-29 02:42:49'),\n",
    "    ('Phylys', 'Aslie', 'paslieo@qq.com', 'M', '368-44-4478', \n",
    "     '+86 (765) 152-8654', '1984-03-22', '2019-10-01 01:34:28')\n",
    "]\n",
    "\n",
    "# Insertar datos en la tabla. %s es un marcador de posición \n",
    "for user in data_to_insert2:\n",
    "    cursor.execute(\"\"\"\n",
    "        INSERT INTO users (user_first_name, user_last_name, user_email_id, user_gender, \n",
    "    user_unique_id, user_phone_no, user_dob, created_ts)\n",
    "        VALUES (%s, %s, %s, %s, %s, %s, %s, %s);\n",
    "    \"\"\", user)\n",
    "\n",
    "# Confirmar la transacción\n",
    "connection.commit()\n",
    "print(\"Records created successfully\")"
   ]
  },
  {
   "cell_type": "markdown",
   "metadata": {},
   "source": [
    "![image](assets/create_table_users.png)\n",
    "<p style=\"text-align: center; width: 100%;\">Figura 8. Vista en pgAdmin de la creación de la base de datos users.</p>"
   ]
  },
  {
   "cell_type": "markdown",
   "metadata": {},
   "source": [
    "### VII SELECT EXTRACT in users\n",
    "\n",
    "Para obtener el número de usuarios creados por año, se ejecutó el siguiente código:\n"
   ]
  },
  {
   "cell_type": "code",
   "execution_count": 11,
   "metadata": {},
   "outputs": [
    {
     "name": "stdout",
     "output_type": "stream",
     "text": [
      "Año: 2018, Cantidad de Usuarios: 13\n",
      "Año: 2019, Cantidad de Usuarios: 4\n",
      "Año: 2020, Cantidad de Usuarios: 8\n"
     ]
    }
   ],
   "source": [
    "# Consulta para obtener el recuento de usuarios por año\n",
    "cursor.execute(\"\"\"\n",
    "    SELECT EXTRACT(YEAR FROM created_ts)::integer AS created_year, COUNT(*) AS user_count\n",
    "    FROM users\n",
    "    GROUP BY created_year\n",
    "    ORDER BY created_year;\n",
    "\"\"\")\n",
    "\n",
    "# Obtener los resultados y mostrarlos\n",
    "results = cursor.fetchall()\n",
    "for row in results:\n",
    "    print(f\"Año: {row[0]:.0f}, Cantidad de Usuarios: {row[1]:.0f}\")"
   ]
  },
  {
   "cell_type": "markdown",
   "metadata": {},
   "source": [
    "La consulta agrupa los usuarios por año en el que fueron creados, cuenta cuántos usuarios hay en cada año y luego los muestra en orden ascendente por año."
   ]
  },
  {
   "cell_type": "markdown",
   "metadata": {},
   "source": [
    "### VIII. SELECT, TO_CHAR, WHERE EXTRACT and ORDER BY in users\n",
    "\n",
    "Para obtener los días de nacimiento de todos los usuarios nacidos en el mes Mayo, utilizamos las siguientes setencias:"
   ]
  },
  {
   "cell_type": "code",
   "execution_count": 12,
   "metadata": {},
   "outputs": [
    {
     "name": "stdout",
     "output_type": "stream",
     "text": [
      "ID de Usuario: 4, Fecha de Nacimiento: 1998-05-24, Email: mtanswill3@dedecms.com, Día de Nacimiento: Sunday\n",
      "ID de Usuario: 12, Fecha de Nacimiento: 1983-05-26, Email: uglayzerb@pinterest.com, Día de Nacimiento: Thursday\n",
      "ID de Usuario: 1, Fecha de Nacimiento: 1973-05-31, Email: gbode0@imgur.com, Día de Nacimiento: Thursday\n",
      "ID de Usuario: 2, Fecha de Nacimiento: 2003-05-31, Email: lgisbey1@mail.ru, Día de Nacimiento: Saturday\n"
     ]
    }
   ],
   "source": [
    "# Consulta para obtener los días de nacimiento de los usuarios nacidos en mayo\n",
    "cursor.execute(\"\"\"\n",
    "    SELECT \n",
    "        user_id,\n",
    "        user_dob,\n",
    "        user_email_id,\n",
    "        TO_CHAR(user_dob, 'FMDay') AS user_day_of_birth\n",
    "    FROM users\n",
    "    WHERE EXTRACT(MONTH FROM user_dob) = 5  -- Filtrar por el mes de mayo\n",
    "    ORDER BY EXTRACT(DAY FROM user_dob);  -- Ordenar por día dentro de mayo\n",
    "\"\"\")\n",
    "\n",
    "# Obtener los resultados y mostrarlos\n",
    "results = cursor.fetchall()\n",
    "for row in results:\n",
    "    print(f\"ID de Usuario: {row[0]}, Fecha de Nacimiento: {row[1]}, Email: {row[2]}, Día de Nacimiento: {row[3]}\")"
   ]
  },
  {
   "cell_type": "markdown",
   "metadata": {},
   "source": [
    "La consulta filtra los registros de usuarios cuyos cumpleaños están en el mes de mayo y luego los ordena por el día de nacimiento dentro de mayo. Además, utiliza la función TO_CHAR para obtener el nombre del día de la semana correspondiente a la fecha de nacimiento y lo muestra en la columna \"user_day_of_birth\". Luego, se recuperan los resultados de la consulta y se muestran en un bucle for."
   ]
  },
  {
   "cell_type": "markdown",
   "metadata": {},
   "source": [
    "### IX. SELECT, UPPER, WHERE EXTRACT and ORDER BY in users\n",
    "\n",
    "El objetivo de esta consulta es obtener el nombre y el id de correo electrónico de cada usuario añadido en el año 2019."
   ]
  },
  {
   "cell_type": "code",
   "execution_count": 13,
   "metadata": {},
   "outputs": [
    {
     "name": "stdout",
     "output_type": "stream",
     "text": [
      "ID de Usuario: 8, Nombre: CYBIL LISSIMORE, Email: clissimore7@pinterest.com, Fecha de Creación: 2019-12-09 14:08:30, Año de Creación: 2019\n",
      "ID de Usuario: 25, Nombre: PHYLYS ASLIE, Email: paslieo@qq.com, Fecha de Creación: 2019-10-01 01:34:28, Año de Creación: 2019\n",
      "ID de Usuario: 12, Nombre: UNA GLAYZER, Email: uglayzerb@pinterest.com, Fecha de Creación: 2019-09-17 03:24:21, Año de Creación: 2019\n",
      "ID de Usuario: 17, Nombre: YANKEE JELF, Email: yjelfg@wufoo.com, Fecha de Creación: 2019-09-16 16:09:12, Año de Creación: 2019\n"
     ]
    }
   ],
   "source": [
    "cursor.execute(\"\"\"\n",
    "    SELECT \n",
    "        user_id, \n",
    "        UPPER(user_first_name || ' ' || user_last_name) AS user_name, \n",
    "        user_email_id, \n",
    "        created_ts, \n",
    "        EXTRACT(YEAR FROM created_ts) AS created_year\n",
    "    FROM users\n",
    "    WHERE EXTRACT(YEAR FROM created_ts) = 2019\n",
    "    ORDER BY user_name;\n",
    "\"\"\")\n",
    "\n",
    "# Obtener los resultados y mostrarlos\n",
    "results = cursor.fetchall()\n",
    "for row in results:\n",
    "    user_id, user_name, user_email_id, created_ts, created_year = row\n",
    "    print(f\"ID de Usuario: {user_id}, Nombre: {user_name}, Email: {user_email_id}, Fecha de Creación: {created_ts}, Año de Creación: {created_year}\")"
   ]
  },
  {
   "cell_type": "markdown",
   "metadata": {},
   "source": [
    "El código ejecuta una consulta SQL para seleccionar registros de una tabla de usuarios. Luego, filtra y ordena los resultados para obtener información específica sobre usuarios cuya fecha de creación es en el año 2019. La información incluye el ID de usuario, el nombre en mayúsculas, la dirección de correo electrónico, la fecha de creación y el año de creación, que se muestra en la consola como una lista de usuarios que cumplen con este criterio."
   ]
  },
  {
   "cell_type": "markdown",
   "metadata": {},
   "source": [
    "### X. SELECT, CASE, COUNT, GROUP BY and ORDER BY in users\n",
    "\n",
    "Obtuvimos el número de usuarios por género a través del siguiente código."
   ]
  },
  {
   "cell_type": "code",
   "execution_count": 14,
   "metadata": {},
   "outputs": [
    {
     "name": "stdout",
     "output_type": "stream",
     "text": [
      "gender  \t  user_count\n",
      "------------------------------\n",
      "Female     \t         13\n",
      "Male       \t         10\n",
      "Not Specified \t          2\n"
     ]
    }
   ],
   "source": [
    "cursor.execute(\"\"\"\n",
    "    SELECT \n",
    "        CASE \n",
    "            WHEN user_gender = 'M' THEN 'Male'\n",
    "            WHEN user_gender = 'F' THEN 'Female'\n",
    "            ELSE 'Not Specified'\n",
    "        END AS gender,\n",
    "        COUNT(*) AS user_count\n",
    "    FROM users\n",
    "    GROUP BY user_gender\n",
    "    ORDER BY user_count DESC;\n",
    "\"\"\")\n",
    "\n",
    "# Obtener los resultados y mostrarlos\n",
    "results = cursor.fetchall()\n",
    "print(\"gender  \\t  user_count\")\n",
    "print(\"-\" * 30)  # Línea de separación\n",
    "\n",
    "for row in results:\n",
    "    gender, user_count = row\n",
    "    print(f\"{gender:10} \\t {user_count:10}\")"
   ]
  },
  {
   "cell_type": "markdown",
   "metadata": {},
   "source": [
    "La consulta utiliza `CASE` para traducir las etiquetas de género 'M' a 'Male', 'F' a 'Female' y cualquier otro valor a 'Not Specified'. Luego, usando `COUNT` para contar la cantidad de usuarios en cada categoría de género y le da un alias user_count. Agrupa los resultados por género utilizando `GROUP BY` y los ordena en forma descendente por la cantidad de usuarios en cada categoría.\n",
    "\n",
    "Al final, recopila los resultados de la consulta en la variable results utilizando `cursor.fetchall()` y los muestra en la consola, indicando el género y la cantidad de usuarios en cada categoría. Esto proporciona una visión general de la distribución de género en la tabla de usuarios."
   ]
  },
  {
   "cell_type": "markdown",
   "metadata": {},
   "source": [
    "### XII. SELECT, CASE and ORDER BY in users\n",
    "\n",
    "Se obtuvieron los 4 últimos dígitos de los IDs únicos."
   ]
  },
  {
   "cell_type": "code",
   "execution_count": 15,
   "metadata": {},
   "outputs": [
    {
     "name": "stdout",
     "output_type": "stream",
     "text": [
      "user_id \t user_unique_id_last4 \t user_unique_id\n",
      "------------------------------------------------------------\n",
      "         1 \t 8759                 \t 88833-8759                              \n",
      "         2 \t 1029                 \t 262501-029                              \n",
      "         3 \t 2823                 \t 391-33-2823                             \n",
      "         4 \t 1380                 \t 1195413-80                              \n",
      "         5 \t 6869                 \t 471-24-6869                             \n",
      "         6 \t 4933                 \t 192374-933                              \n",
      "         7 \t 4752                 \t 749-27-47-52                            \n",
      "         8 \t 4198                 \t 461-75-4198                             \n",
      "         9 \t 6762                 \t 892-36-676-2                            \n",
      "        10 \t 1646                 \t 197-54-1646                             \n",
      "        11 \t 5258                 \t 232-55-52-58                            \n",
      "        12 \t 3366                 \t 898-84-336-6                            \n",
      "        13 \t 6844                 \t 247-95-68-44                            \n",
      "        14 \t 8943                 \t 415-48-894-3                            \n",
      "        15 \t 5869                 \t 403-39-5-869                            \n",
      "        16 \t 0503                 \t 399-83-05-03                            \n",
      "        17 \t 0411                 \t 607-99-0411                             \n",
      "        18 \t 5785                 \t 430-01-578-5                            \n",
      "        19 \t 6181                 \t 571-09-6181                             \n",
      "        20 \t 0287                 \t 478-32-02-87                            \n",
      "        21 \t Invalid Unique Id    \t                                         \n",
      "        22 \t Invalid Unique Id    \t                                         \n",
      "        23 \t 5287                 \t 830-40-5287                             \n",
      "        24 \t Invalid Unique Id    \t 778-0845                                \n",
      "        25 \t 4478                 \t 368-44-4478                             \n"
     ]
    }
   ],
   "source": [
    "cursor.execute(\"\"\"\n",
    "    SELECT \n",
    "        user_id, \n",
    "        COALESCE(\n",
    "            CASE \n",
    "                WHEN user_unique_id IS NULL THEN 'Not Specified'\n",
    "                WHEN LENGTH(user_unique_id) < 9 THEN 'Invalid Unique Id'\n",
    "                ELSE RIGHT(REPLACE(user_unique_id, '-', ''), 4)\n",
    "            END, 'Not Specified'\n",
    "        ) AS user_unique_id_last4,\n",
    "        user_unique_id\n",
    "    FROM users\n",
    "    ORDER BY user_id;\n",
    "\"\"\")\n",
    "\n",
    "# Obtener los resultados y mostrarlos\n",
    "results = cursor.fetchall()\n",
    "print(\"user_id \\t user_unique_id_last4 \\t user_unique_id\")\n",
    "print(\"-\" * 60)  # Línea de separación\n",
    "\n",
    "for row in results:\n",
    "    user_id, user_unique_id_last4, user_unique_id = row\n",
    "    print(f\"{user_id:10} \\t {user_unique_id_last4:20} \\t {user_unique_id:40}\")"
   ]
  },
  {
   "cell_type": "markdown",
   "metadata": {},
   "source": [
    "El código ejecuta una consulta SQL en la que se selecciona información de usuarios desde una tabla. La columna `user_unique_id` se procesa para obtener los últimos 4 dígitos del `Unique ID` de cada usuario. Si el Unique ID es nulo o tiene menos de 9 caracteres, se establece `Not Specified` o `Invalid Unique Id` como valor de respaldo, respectivamente. Luego, se muestra el ID de usuario, los últimos 4 dígitos del Unique ID y el Unique ID original en la consola, y se ordena la salida por el ID de usuario. Esto proporciona una vista de los últimos 4 dígitos del Unique ID de los usuarios, con manejo adecuado de valores nulos o inválidos."
   ]
  },
  {
   "cell_type": "markdown",
   "metadata": {},
   "source": [
    "### XIII. SELECT, SUBSTRING, POSITION, GROUP BY, ORDER BY in users"
   ]
  },
  {
   "cell_type": "markdown",
   "metadata": {},
   "source": [
    "El objetivo de la consulta es obtener el recuento de usuarios en función del código de país, teniendo en cuenta los siguientes criterios dados por el enunciado:\n",
    " \n",
    "* La salida contiene el código de país y el recuento.\n",
    "* No existe ningún + en el código de país. Sólo contiene dígitos.\n",
    "* Los datos se ordenaron como números por código de país.\n",
    "* Se descarta en la columna `user_phone_no` los valores null."
   ]
  },
  {
   "cell_type": "code",
   "execution_count": 16,
   "metadata": {},
   "outputs": [
    {
     "name": "stdout",
     "output_type": "stream",
     "text": [
      "Country Code\tUser Count\n",
      "-------------------------\n",
      "1\t         1\n",
      "229\t         1\n",
      "249\t         1\n",
      "351\t         1\n",
      "370\t         1\n",
      "380\t         1\n",
      "420\t         1\n",
      "48\t         1\n",
      "54\t         1\n",
      "55\t         1\n",
      "598\t         1\n",
      "62\t         3\n",
      "63\t         1\n",
      "7\t         2\n",
      "81\t         1\n",
      "84\t         1\n",
      "86\t         4\n"
     ]
    }
   ],
   "source": [
    "cursor.execute(\"\"\"\n",
    "SELECT\n",
    "    SUBSTRING(user_phone_no, POSITION('+' IN user_phone_no) + 1, POSITION(' ' IN user_phone_no) - POSITION('+' IN user_phone_no) - 1) AS country_code,\n",
    "    COUNT(*) AS user_count\n",
    "FROM\n",
    "    users\n",
    "WHERE \n",
    "    user_phone_no LIKE '+% %' AND user_phone_no IS NOT NULL\n",
    "GROUP BY\n",
    "    country_code\n",
    "ORDER BY\n",
    "    country_code;\n",
    "\"\"\")\n",
    "\n",
    "# Obtener los resultados y mostrarlos\n",
    "results = cursor.fetchall()\n",
    "print(\"Country Code\\tUser Count\") \n",
    "print(\"-\" * 25)  # Línea de separación\n",
    "\n",
    "for row in results:\n",
    "    country_code, user_count = row\n",
    "    print(f\"{country_code}\\t{user_count:10}\")"
   ]
  },
  {
   "cell_type": "markdown",
   "metadata": {},
   "source": [
    "La consulta inicialmente utiliza las funciones `SUBSTRING` y `POSITION` para extraer el código de país de la columna user_phone_no. El código de país se encuentra entre el símbolo '+' y el primer espacio en la columna. Se utiliza `POSITION` para encontrar la posición del símbolo '+' y el espacio en la columna user_phone_no.\n",
    "\n",
    "El `+ 1` en la expresión `POSITION('+' IN user_phone_no) + 1` se utiliza para desplazar la posición encontrada por `POSITION('+' IN user_phone_no)` en la cadena user_phone_no hacia la derecha por un carácter adicional. Esto es necesario para asegurarse de que el resultado de POSITION apunte al primer dígito del código de país después del símbolo +.\n",
    "\n",
    "Luego, se resta `POSITION('+' IN user_phone_no)` de `POSITION(' ' IN user_phone_no)` nos da la cantidad de caracteres entre el símbolo + y el primer espacio, lo que representa la longitud del código de país, nuestro objetivo. Al final, se resta 1 al resultado anterior para asegurarnos de que no incluyamos el espacio en la longitud.\n",
    "\n",
    "Una vez extraído el código de país se hace el recuento de la cantidad de usuarios que pertenecen a cada país por el código asociado a su número de teléfono."
   ]
  }
 ],
 "metadata": {
  "kernelspec": {
   "display_name": "tarea1_venv",
   "language": "python",
   "name": "python3"
  },
  "language_info": {
   "codemirror_mode": {
    "name": "ipython",
    "version": 3
   },
   "file_extension": ".py",
   "mimetype": "text/x-python",
   "name": "python",
   "nbconvert_exporter": "python",
   "pygments_lexer": "ipython3",
   "version": "3.9.18"
  }
 },
 "nbformat": 4,
 "nbformat_minor": 2
}
