{
 "cells": [
  {
   "cell_type": "markdown",
   "metadata": {},
   "source": [
    "# PostgreSQL y Docker\n",
    "\n",
    "Se descarga la última version de PostgreSQL en un contenedor de Docker. Esto con el fin de ejecutar múltiples instancias den contenedor para todas las bases de datos. \n",
    "Este procedimiento se realiza a través del siguiente código: \n",
    "\n",
    "```PowerShell\n",
    "docker pull postgres\n",
    "```\n",
    "\n",
    "\n",
    "![image](assets/create_dbtask1_1.png)\n",
    "<p style=\"text-align: center; width: 100%;\">Figura 1. Consola Windows PowerShell para ejecutar el cliente de Docker</p>\n"
   ]
  },
  {
   "cell_type": "markdown",
   "metadata": {},
   "source": [
    "## Creación de la base de datos\n",
    "\n",
    "Se realiza la generación de una base de datos mediante el uso de variables de entorno (-e), lo cual involucra la configuración de las mismas. Para la confiuración se abarcan diversos elementos como el nombre de usuario, la contraseña, el nombre de la base de datos y otros detalles adicionales que se detallan a continuación:\n",
    "\n",
    "* `Host` : localhost\n",
    "* `Port` : 5342\n",
    "* `Database Name` : dbtask1_db\n",
    "* `User Name` : dbtask1_user\n",
    "* `Password` : password\n",
    "\n",
    "```PowerShell\n",
    "docker run --name=dbtask1-postgres -e POSTGRES_USER=dbtask1 -e POSTGRES_PASSWORD=password -e POSTGRES_DB=dbtask1 -p 5432:5432 -d postgres\n",
    "```\n",
    "\n",
    "![image](assets/create_dbtask1_2.png)\n",
    "<p style=\"text-align: center; width: 100%;\">Figura 2. Creación de la base de datos dbtask1 con el puerto expuesto</p>\n",
    "\n",
    "\n",
    "De esta manera, ya tendría una instancia de base de datos de PostgreSQL. En este caso, hemos expuesto el puerto del contenedor para conexiones externas. En `Docker Desktop` podrá visualizar la instancia de `PostgreSQL` que el contenedor ha creado, la cual tiene las credenciales asignadas previamente.\n",
    "\n",
    "\n",
    "\n",
    "![image](assets/create_dbtask1_3.png)\n",
    "<p style=\"text-align: center; width: 100%;\">Figura 3. Docker Desktop ejecutando el contenedor con la instancia de PostgreSQL</p>\n"
   ]
  }
 ],
 "metadata": {
  "kernelspec": {
   "display_name": "Python 3",
   "language": "python",
   "name": "python3"
  },
  "language_info": {
   "codemirror_mode": {
    "name": "ipython",
    "version": 3
   },
   "file_extension": ".py",
   "mimetype": "text/x-python",
   "name": "python",
   "nbconvert_exporter": "python",
   "pygments_lexer": "ipython3",
   "version": "3.9.18"
  }
 },
 "nbformat": 4,
 "nbformat_minor": 2
}
